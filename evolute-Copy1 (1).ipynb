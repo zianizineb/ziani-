{
 "cells": [
  {
   "cell_type": "markdown",
   "metadata": {},
   "source": [
    "# TUTORIAL 3 : Evolute of curves\n",
    "\n",
    "The evolute of a curve is by definition the set of its centers of curvatures. The goal of this lab session is to define a generic function that computes the evolute of any parameterized curve. \n",
    "\n",
    "## PART I. \n",
    "We assume in the following that we have a parametrized curve $f:[a,b]\\to\\mathbb{R}^3$ which is only known through a discretization $(t,f)$ where $$\\textit{t = np.linspace(0,1,n)}\\quad f=(f(t_0),\\cdots,f(t_{n-1})).$$\n",
    "$f$ is therefore of size $3 \\times n$.\n",
    "\n",
    "## 1) Discrete derivative\n",
    "Define a function that calculate an approximation of the derivative of $f$. The output has the same size than $t$ and $f$. "
   ]
  },
  {
   "cell_type": "code",
   "execution_count": 8,
   "metadata": {},
   "outputs": [
    {
     "name": "stdout",
     "output_type": "stream",
     "text": [
      "[[ 0.99726184  0.98088683  0.94840568  0.90035174  0.83751405  0.7609244\n",
      "   0.67184039  0.57172478  0.46222147  0.34512849  0.22236852  0.09595725\n",
      "  -0.03202962 -0.15949058 -0.2843327  -0.40450608 -0.51803749 -0.62306273\n",
      "  -0.71785731 -0.80086468 -0.87072188 -0.92628185 -0.9666323  -0.99111067\n",
      "  -0.99931504 -0.99111067 -0.9666323  -0.92628185 -0.87072188 -0.80086468\n",
      "  -0.71785731 -0.62306273 -0.51803749 -0.40450608 -0.2843327  -0.15949058\n",
      "  -0.03202962  0.09595725  0.22236852  0.34512849  0.46222147  0.57172478\n",
      "   0.67184039  0.7609244   0.83751405  0.90035174  0.94840568  0.98088683\n",
      "   0.99726184  0.99726184]\n",
      " [-0.06402633 -0.19102769 -0.31489238 -0.43358654 -0.54516123 -0.64778438\n",
      "  -0.73977093 -0.81961047 -0.88599202 -0.93782561 -0.97426012 -0.99469732\n",
      "  -0.99880161 -0.9865056  -0.9580112  -0.91378628 -0.85455702 -0.78129596\n",
      "  -0.69520603 -0.59770085 -0.49038143 -0.37500996 -0.25348084 -0.12778957\n",
      "   0.          0.12778957  0.25348084  0.37500996  0.49038143  0.59770085\n",
      "   0.69520603  0.78129596  0.85455702  0.91378628  0.9580112   0.9865056\n",
      "   0.99880161  0.99469732  0.97426012  0.93782561  0.88599202  0.81961047\n",
      "   0.73977093  0.64778438  0.54516123  0.43358654  0.31489238  0.19102769\n",
      "   0.06402633  0.06402633]\n",
      " [ 3.          3.          3.          3.          3.          3.\n",
      "   3.          3.          3.          3.          3.          3.\n",
      "   3.          3.          3.          3.          3.          3.\n",
      "   3.          3.          3.          3.          3.          3.\n",
      "   3.          3.          3.          3.          3.          3.\n",
      "   3.          3.          3.          3.          3.          3.\n",
      "   3.          3.          3.          3.          3.          3.\n",
      "   3.          3.          3.          3.          3.          3.\n",
      "   3.          3.        ]]\n"
     ]
    }
   ],
   "source": [
    "%matplotlib inline\n",
    "import numpy as np\n",
    "import matplotlib.pyplot as plt\n",
    "import math as mth\n",
    "#----------------------\n",
    "# discrete derivature\n",
    "def derivative(t,f):\n",
    "    # TO BE DONE\n",
    "    n=len(t)\n",
    "    df=np.ones((3,n))\n",
    "    #a=t[0]\n",
    "    #b=t[n]\n",
    "    #h=b-a\n",
    "    #x=(t-a)/(b-a)\n",
    "    h=t[1]-t[0]\n",
    "    for i in range(n-1):\n",
    "            df[:,i]=(f[:,i+1]-f[:,i])/h\n",
    "    df[:,n-1] = df[:,n-2]\n",
    "    return df\n",
    " \n",
    "\n",
    "\n",
    "\n",
    "#---------------------\n",
    "# check that function on simple examples\n",
    "t=np.linspace(0,2*np.pi,50)\n",
    "f1 = np.sin(t)\n",
    "f2 = np.cos(t)\n",
    "f3 = 3*t\n",
    "\n",
    "f = np.array([f1,f2,f3])\n",
    "g = derivative(t,f)\n",
    "print(g)\n",
    "\n",
    "\n"
   ]
  },
  {
   "cell_type": "markdown",
   "metadata": {},
   "source": [
    "## 2) Discrete normal vector\n",
    "The goal is to build the function that outputs for every $t_i$ the unit normal $N(t_i)$."
   ]
  },
  {
   "cell_type": "code",
   "execution_count": 9,
   "metadata": {},
   "outputs": [],
   "source": [
    "#----------------------\n",
    "# discrete derivature\n",
    "def normal_vector(t,f):\n",
    "    # TO BE DONE\n",
    "    n=len(t)\n",
    "    normal_f=np.empty([3,n])#intialization of the normal vector\n",
    "    tangent=np.empty([3,n])#intialization of the tangent vector\n",
    "    deriv_f=np.empty([3,n])#intialization of derivative of f\n",
    "    deriv_f=derivative(t,f)\n",
    "    norm=0\n",
    "    for i in range (n):\n",
    "        norm=mth.sqrt(deriv_f[0,i]**2+deriv_f[1,i]**2+deriv_f[2,i]**2)\n",
    "        tangent[0,i]=deriv_f[0,i]/norm\n",
    "        tangent[1,i]=deriv_f[1,i]/norm\n",
    "        tangent[2,i]=deriv_f[2,i]/norm\n",
    "    tang_deriv=np.empty([3,n])\n",
    "    tang_deriv=derivative(t,tangent)\n",
    "    tang_deriv[0,n-1]=tang_deriv[0,n-2]\n",
    "    tang_deriv[1,n-1]=tang_deriv[1,n-2]\n",
    "    tang_deriv[2,n-1]=tang_deriv[2,n-2]\n",
    "    for i in range (n):\n",
    "        norm=mth.sqrt(tang_deriv[0,i]**2+tang_deriv[1,i]**2+tang_deriv[2,i]**2)\n",
    "        normal_f[0,i]=tang_deriv[0,i]/norm\n",
    "        normal_f[1,i]=tang_deriv[1,i]/norm\n",
    "        normal_f[2,i]=tang_deriv[2,i]/norm\n",
    "      \n",
    "       \n",
    "    return normal_f # normal_f is of size 3 x n\n"
   ]
  },
  {
   "cell_type": "markdown",
   "metadata": {},
   "source": [
    "## 3) Curvature function\n",
    "The goal is to build the function that outputs for every $t_i$ the curvature $k(t_i)$."
   ]
  },
  {
   "cell_type": "code",
   "execution_count": 10,
   "metadata": {},
   "outputs": [
    {
     "name": "stdout",
     "output_type": "stream",
     "text": [
      "[0.09996476 0.09996476 0.09996476 0.09996476 0.09996476 0.09996476\n",
      " 0.09996476 0.09996476 0.09996476 0.09996476 0.09996476 0.09996476\n",
      " 0.09996476 0.09996476 0.09996476 0.09996476 0.09996476 0.09996476\n",
      " 0.09996476 0.09996476 0.09996476 0.09996476 0.09996476 0.09996476\n",
      " 0.09996476 0.09996476 0.09996476 0.09996476 0.09996476 0.09996476\n",
      " 0.09996476 0.09996476 0.09996476 0.09996476 0.09996476 0.09996476\n",
      " 0.09996476 0.09996476 0.09996476 0.09996476 0.09996476 0.09996476\n",
      " 0.09996476 0.09996476 0.09996476 0.09996476 0.09996476 0.09996476\n",
      " 0.09996476 0.09996476 0.09996476 0.09996476 0.09996476 0.09996476\n",
      " 0.09996476 0.09996476 0.09996476 0.09996476 0.09996476 0.09996476\n",
      " 0.09996476 0.09996476 0.09996476 0.09996476 0.09996476 0.09996476\n",
      " 0.09996476 0.09996476 0.09996476 0.09996476 0.09996476 0.09996476\n",
      " 0.09996476 0.09996476 0.09996476 0.09996476 0.09996476 0.09996476\n",
      " 0.09996476 0.09996476 0.09996476 0.09996476 0.09996476 0.09996476\n",
      " 0.09996476 0.09996476 0.09996476 0.09996476 0.09996476 0.09996476\n",
      " 0.09996476 0.09996476 0.09996476 0.09996476 0.09996476 0.09996476\n",
      " 0.09996476 0.09996476 0.         0.        ]\n"
     ]
    }
   ],
   "source": [
    "#----------------------\n",
    "# discrete derivature\n",
    "import numpy.linalg as l\n",
    "        \n",
    "def curvature(t,f):\n",
    "    # TO BE DONE\n",
    "    curvature_f=np.array(len(t))\n",
    "    f_p=derivative(t,f)\n",
    "    f_sec=derivative(t,f_p)\n",
    "    crossf=np.empty((3,len(t)))\n",
    "    for i in range(len(t)):\n",
    "        crossf[:,i]=np.cross(f_p[:,i],f_sec[:,i])\n",
    "    \n",
    "    curvature_f=np.empty(len(t))\n",
    "    for j in range(len(t)):\n",
    "        curvature_f[j]=l.norm(crossf[:,j])/((l.norm(f_p[:,j]))**3)\n",
    "        \n",
    "    \n",
    "        \n",
    "    return curvature_f # curvature_f is of size 1 x n\n",
    "\n",
    "#---------------------\n",
    "# check that function on simple examples\n",
    "t=np.linspace(0,2*np.pi,100)\n",
    "f1 = np.sin(t)\n",
    "f2 = np.cos(t)\n",
    "f3 = 3*t\n",
    "\n",
    "f = np.array([f1,f2,f3])\n",
    "K = curvature(t,f)\n",
    "print(K)                                        \n"
   ]
  },
  {
   "cell_type": "markdown",
   "metadata": {},
   "source": [
    "## 4) Evolute \n",
    "Define the evolute, namely the set of centers of curvatures. "
   ]
  },
  {
   "cell_type": "code",
   "execution_count": 11,
   "metadata": {},
   "outputs": [
    {
     "name": "stdout",
     "output_type": "stream",
     "text": [
      "[[-6.34462764e-01 -1.20294685e+00 -1.76658710e+00 -2.32311392e+00\n",
      "  -2.87028638e+00 -3.40590121e+00 -3.92780168e+00 -4.43388628e+00\n",
      "  -4.92211718e+00 -5.39052846e+00 -5.83723398e+00 -6.26043502e+00\n",
      "  -6.65842749e+00 -7.02960883e+00 -7.37248442e+00 -7.68567361e+00\n",
      "  -7.96791531e+00 -8.21807302e+00 -8.43513946e+00 -8.61824056e+00\n",
      "  -8.76663905e+00 -8.87973739e+00 -8.95708015e+00 -8.99835591e+00\n",
      "  -9.00339847e+00 -8.97218752e+00 -8.90484874e+00 -8.80165328e+00\n",
      "  -8.66301666e+00 -8.48949713e+00 -8.28179340e+00 -8.04074181e+00\n",
      "  -7.76731298e+00 -7.46260793e+00 -7.12785359e+00 -6.76439790e+00\n",
      "  -6.37370437e+00 -5.95734618e+00 -5.51699986e+00 -5.05443853e+00\n",
      "  -4.57152475e+00 -4.07020306e+00 -3.55249210e+00 -3.02047651e+00\n",
      "  -2.47629853e+00 -1.92214936e+00 -1.36026038e+00 -7.92894107e-01\n",
      "  -2.22335132e-01  3.49119109e-01  9.19167570e-01  1.48551487e+00\n",
      "   2.04588052e+00  2.59800814e+00  3.13967449e+00  3.66869848e+00\n",
      "   4.18294992e+00  4.68035809e+00  5.15892012e+00  5.61670899e+00\n",
      "   6.05188136e+00  6.46268494e+00  6.84746557e+00  7.20467387e+00\n",
      "   7.53287150e+00  7.83073690e+00  8.09707070e+00  8.33080044e+00\n",
      "   8.53098500e+00  8.69681829e+00  8.82763256e+00  8.92290107e+00\n",
      "   8.98224021e+00  9.00541103e+00  8.99232025e+00  8.94302056e+00\n",
      "   8.85771049e+00  8.73673354e+00  8.58057685e+00  8.38986921e+00\n",
      "   8.16537852e+00  7.90800874e+00  7.61879620e+00  7.29890545e+00\n",
      "   6.94962459e+00  6.57236004e+00  6.16863092e+00  5.74006290e+00\n",
      "   5.28838167e+00  4.81540599e+00  4.32304038e+00  3.81326740e+00\n",
      "   3.28813975e+00  2.74977191e+00  2.20033172e+00  1.64203156e+00\n",
      "   1.07711953e+00  5.07870311e-01             nan -2.44929360e-16]\n",
      " [-8.98338464e+00 -8.92505807e+00 -8.83079344e+00 -8.70097031e+00\n",
      "  -8.53611145e+00 -8.33688069e+00 -8.10408024e+00 -7.83864753e+00\n",
      "  -7.54165135e+00 -7.21428760e+00 -6.85787446e+00 -6.47384708e+00\n",
      "  -6.06375181e+00 -5.62923994e+00 -5.17206112e+00 -4.69405622e+00\n",
      "  -4.19715002e+00 -3.68334338e+00 -3.15470522e+00 -2.61336417e+00\n",
      "  -2.06150002e+00 -1.50133495e+00 -9.35124523e-01 -3.65148683e-01\n",
      "   2.06297481e-01  7.76912959e-01  1.34440008e+00  1.90647378e+00\n",
      "   2.46087078e+00  3.00535873e+00  3.53774515e+00  4.05588632e+00\n",
      "   4.55769588e+00  5.04115319e+00  5.50431157e+00  5.94530602e+00\n",
      "   6.36236083e+00  6.75379665e+00  7.11803732e+00  7.45361616e+00\n",
      "   7.75918192e+00  8.03350420e+00  8.27547839e+00  8.48413014e+00\n",
      "   8.65861931e+00  8.79824326e+00  8.90243980e+00  8.97078935e+00\n",
      "   9.00301670e+00  8.99899208e+00  8.95873170e+00  8.88239766e+00\n",
      "   8.77029735e+00  8.62288214e+00  8.44074563e+00  8.22462121e+00\n",
      "   7.97537915e+00  7.69402306e+00  7.38168584e+00  7.03962518e+00\n",
      "   6.66921844e+00  6.27195711e+00  5.84944082e+00  5.40337090e+00\n",
      "   4.93554351e+00  4.44784242e+00  3.94223145e+00  3.42074650e+00\n",
      "   2.88548741e+00  2.33860949e+00  1.78231481e+00  1.21884337e+00\n",
      "   6.50464085e-01  7.94656086e-02 -4.91852847e-01 -1.06119079e+00\n",
      "  -1.62625568e+00 -2.18477222e+00 -2.73449146e+00 -3.27319986e+00\n",
      "  -3.79872824e+00 -4.30896048e+00 -4.80184206e+00 -5.27538832e+00\n",
      "  -5.72769244e+00 -6.15693318e+00 -6.56138212e+00 -6.93941068e+00\n",
      "  -7.28949669e+00 -7.61023047e+00 -7.90032054e+00 -8.15859880e+00\n",
      "  -8.38402527e+00 -8.57569222e+00 -8.73282789e+00 -8.85479955e+00\n",
      "  -8.94111605e+00 -8.99142983e+00             nan  1.00000000e+00]\n",
      " [ 0.00000000e+00  1.90399555e-01  3.80799110e-01  5.71198664e-01\n",
      "   7.61598219e-01  9.51997774e-01  1.14239733e+00  1.33279688e+00\n",
      "   1.52319644e+00  1.71359599e+00  1.90399555e+00  2.09439510e+00\n",
      "   2.28479466e+00  2.47519421e+00  2.66559377e+00  2.85599332e+00\n",
      "   3.04639288e+00  3.23679243e+00  3.42719199e+00  3.61759154e+00\n",
      "   3.80799110e+00  3.99839065e+00  4.18879020e+00  4.37918976e+00\n",
      "   4.56958931e+00  4.75998887e+00  4.95038842e+00  5.14078798e+00\n",
      "   5.33118753e+00  5.52158709e+00  5.71198664e+00  5.90238620e+00\n",
      "   6.09278575e+00  6.28318531e+00  6.47358486e+00  6.66398442e+00\n",
      "   6.85438397e+00  7.04478353e+00  7.23518308e+00  7.42558264e+00\n",
      "   7.61598219e+00  7.80638175e+00  7.99678130e+00  8.18718085e+00\n",
      "   8.37758041e+00  8.56797996e+00  8.75837952e+00  8.94877907e+00\n",
      "   9.13917863e+00  9.32957818e+00  9.51997774e+00  9.71037729e+00\n",
      "   9.90077685e+00  1.00911764e+01  1.02815760e+01  1.04719755e+01\n",
      "   1.06623751e+01  1.08527746e+01  1.10431742e+01  1.12335737e+01\n",
      "   1.14239733e+01  1.16143728e+01  1.18047724e+01  1.19951720e+01\n",
      "   1.21855715e+01  1.23759711e+01  1.25663706e+01  1.27567702e+01\n",
      "   1.29471697e+01  1.31375693e+01  1.33279688e+01  1.35183684e+01\n",
      "   1.37087679e+01  1.38991675e+01  1.40895671e+01  1.42799666e+01\n",
      "   1.44703662e+01  1.46607657e+01  1.48511653e+01  1.50415648e+01\n",
      "   1.52319644e+01  1.54223639e+01  1.56127635e+01  1.58031630e+01\n",
      "   1.59935626e+01  1.61839622e+01  1.63743617e+01  1.65647613e+01\n",
      "   1.67551608e+01  1.69455604e+01  1.71359599e+01  1.73263595e+01\n",
      "   1.75167590e+01  1.77071586e+01  1.78975581e+01  1.80879577e+01\n",
      "   1.82783573e+01  1.84687568e+01             nan  1.88495559e+01]]\n"
     ]
    },
    {
     "name": "stderr",
     "output_type": "stream",
     "text": [
      "/usr/lib/python3/dist-packages/ipykernel_launcher.py:23: RuntimeWarning: invalid value encountered in double_scalars\n",
      "/usr/lib/python3/dist-packages/ipykernel_launcher.py:24: RuntimeWarning: invalid value encountered in double_scalars\n",
      "/usr/lib/python3/dist-packages/ipykernel_launcher.py:25: RuntimeWarning: invalid value encountered in double_scalars\n"
     ]
    }
   ],
   "source": [
    "#----------------------\n",
    "# discrete derivature\n",
    "def evolute(t,f):\n",
    "    # TO BE DONE\n",
    "    evolute_f=np.empty((3,len(t)))\n",
    "    \n",
    "    Curvaturef=curvature(t,f)\n",
    "    Normal=normal_vector(t,f)\n",
    "    for i in range(len(t)-1):\n",
    "        evolute_f[:,i]=f[:,i] + Normal[:,i]/Curvaturef[i]\n",
    "    return evolute_f # evolute_f is of size 3 x n\n",
    "\n",
    "t=np.linspace(0,2*np.pi,100)\n",
    "f1 = np.sin(t)\n",
    "f2 = np.cos(t)\n",
    "f3 = 3*t\n",
    "\n",
    "f = np.array([f1,f2,f3])\n",
    "E = evolute(t,f)\n",
    "print(E)\n"
   ]
  },
  {
   "cell_type": "markdown",
   "metadata": {},
   "source": [
    "## PART II. 1) Evolute of the helicoid\n",
    "Plot the evolute of the helicoid \n",
    "$$\n",
    "\\begin{array}{lllll}\n",
    "\\gamma :&\\mathbb{R}&\\to&\\mathbb{R}^3\\\\ \n",
    "&t &\\mapsto & (R\\cos t, R \\sin t, at).\n",
    "\\end{array}\n",
    "$$"
   ]
  },
  {
   "cell_type": "code",
   "execution_count": 12,
   "metadata": {},
   "outputs": [
    {
     "name": "stderr",
     "output_type": "stream",
     "text": [
      "/usr/lib/python3/dist-packages/ipykernel_launcher.py:23: RuntimeWarning: invalid value encountered in double_scalars\n",
      "/usr/lib/python3/dist-packages/ipykernel_launcher.py:24: RuntimeWarning: invalid value encountered in double_scalars\n",
      "/usr/lib/python3/dist-packages/ipykernel_launcher.py:25: RuntimeWarning: invalid value encountered in double_scalars\n"
     ]
    },
    {
     "data": {
      "image/png": "[encoded data removed]",
      "text/plain": [
       "<matplotlib.figure.Figure at 0x7ff1e3cfd9b0>"
      ]
     },
     "metadata": {},
     "output_type": "display_data"
    }
   ],
   "source": [
    "import matplotlib as mpl\n",
    "from mpl_toolkits.mplot3d import Axes3D\n",
    "import numpy as np\n",
    "import matplotlib.pyplot as plt\n",
    "\n",
    "mpl.rcParams['legend.fontsize'] = 10\n",
    "\n",
    "fig = plt.figure()\n",
    "ax = fig.gca(projection='3d')\n",
    "t = np.linspace(-4 * np.pi, 4 * np.pi, 100)\n",
    "f1 = np.sin(t)\n",
    "f2 = np.cos(t)\n",
    "f3 = t\n",
    "\n",
    "f = np.array([f1,f2,f3])\n",
    "e = evolute(t,f)\n",
    "x1 = e[0,:]\n",
    "y1 = e[1,:]\n",
    "z1 = e[2,:]\n",
    "\n",
    "\n",
    "ax.plot(f1, f2, f3, label='Helicoidal curve')\n",
    "ax.plot(x1, y1, z1,label='Evolute of the Helicoidal curve')\n",
    "ax.legend()\n",
    "\n",
    "plt.show()"
   ]
  },
  {
   "cell_type": "markdown",
   "metadata": {},
   "source": [
    "## 2) Evolute of the catenary\n",
    "Plot the evolute of the catenary \n",
    "$$\n",
    "\\begin{array}{lllll}\n",
    "\\gamma :&\\mathbb{R}&\\to&\\mathbb{R}^2\\\\ \n",
    "&t &\\mapsto & (t,\\cosh t).\n",
    "\\end{array}\n",
    "$$"
   ]
  },
  {
   "cell_type": "code",
   "execution_count": 18,
   "metadata": {},
   "outputs": [
    {
     "name": "stderr",
     "output_type": "stream",
     "text": [
      "/usr/lib/python3/dist-packages/ipykernel_launcher.py:23: RuntimeWarning: invalid value encountered in double_scalars\n",
      "/usr/lib/python3/dist-packages/ipykernel_launcher.py:24: RuntimeWarning: invalid value encountered in double_scalars\n",
      "/usr/lib/python3/dist-packages/ipykernel_launcher.py:25: RuntimeWarning: invalid value encountered in double_scalars\n"
     ]
    },
    {
     "data": {
      "image/png": "[encoded data removed]",
      "text/plain": [
       "<matplotlib.figure.Figure at 0x7ff1e3ba6588>"
      ]
     },
     "metadata": {},
     "output_type": "display_data"
    }
   ],
   "source": [
    "import numpy as np\n",
    "import matplotlib.pyplot as plt\n",
    "\n",
    "t=np.linspace(-1,3,500)\n",
    "\n",
    "x = t\n",
    "y = np.cosh(t)\n",
    "z = 0*t\n",
    "\n",
    "Ca = np.array([x,y,z])\n",
    "Ec = evolute(t,Ca)\n",
    "\n",
    "mpl.rcParams['legend.fontsize'] = 10\n",
    "\n",
    "fig = plt.figure()\n",
    "#ax = fig.gca(projection='3d')\n",
    "\n",
    "\n",
    "\n",
    "C1 = Ec[0,:]\n",
    "C2 = Ec[1,:]\n",
    "C3 = Ec[2,:]\n",
    "\n",
    "#ax.plot(x, y, z, label='parametric curve')\n",
    "#ax.plot(C1, C2, C3,label='parametric curve')\n",
    "#ax.legend()\n",
    "plt.plot(x,y,label='catenary curve')\n",
    "plt.plot(C1,C2,label='evolute of the catenary curve')\n",
    "plt.show()"
   ]
  },
  {
   "cell_type": "markdown",
   "metadata": {},
   "source": [
    "## 3) Evolute of Bezier curves\n",
    "Plot the evolute of  Bezier curve that you created before."
   ]
  },
  {
   "cell_type": "code",
   "execution_count": null,
   "metadata": {},
   "outputs": [],
   "source": []
  },
  {
   "cell_type": "markdown",
   "metadata": {},
   "source": []
  }
 ],
 "metadata": {
  "kernelspec": {
   "display_name": "Python 3",
   "language": "python",
   "name": "python3"
  },
  "language_info": {
   "codemirror_mode": {
    "name": "ipython",
    "version": 3
   },
   "file_extension": ".py",
   "mimetype": "text/x-python",
   "name": "python",
   "nbconvert_exporter": "python",
   "pygments_lexer": "ipython3",
   "version": "3.6.6+"
  }
 },
 "nbformat": 4,
 "nbformat_minor": 2
}
